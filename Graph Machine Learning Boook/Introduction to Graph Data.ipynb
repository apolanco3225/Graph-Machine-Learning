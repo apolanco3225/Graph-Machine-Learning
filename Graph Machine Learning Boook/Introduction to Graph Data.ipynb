{
 "cells": [
  {
   "cell_type": "code",
   "execution_count": 1,
   "id": "1e8a3214-0c3f-4854-8bf3-5d08d291a627",
   "metadata": {},
   "outputs": [],
   "source": [
    "import networkx as nx\n",
    "\n"
   ]
  },
  {
   "cell_type": "code",
   "execution_count": 2,
   "id": "788d39e4-d3b4-49a1-ad01-f47b2e8b3f55",
   "metadata": {},
   "outputs": [],
   "source": [
    "G = nx.Graph()\n",
    "V = {'Dublin', 'Paris', 'Milan', 'Rome'}\n",
    "E = [('Milan','Dublin'), ('Milan','Paris'), ('Paris','Dublin'), ('Milan','Rome')]\n",
    "G.add_nodes_from(V)\n",
    "G.add_edges_from(E)"
   ]
  },
  {
   "cell_type": "code",
   "execution_count": 3,
   "id": "3b1c6079-8f58-428a-9ffd-cb4e526a8af5",
   "metadata": {},
   "outputs": [
    {
     "name": "stdout",
     "output_type": "stream",
     "text": [
      "V: ['Rome', 'Milan', 'Dublin', 'Paris']\n",
      "E: [('Rome', 'Milan'), ('Milan', 'Dublin'), ('Milan', 'Paris'), ('Dublin', 'Paris')]\n"
     ]
    }
   ],
   "source": [
    "print(f\"V: {G.nodes}\")\n",
    "print(f\"E: {G.edges}\")"
   ]
  },
  {
   "cell_type": "code",
   "execution_count": 5,
   "id": "2d96f179-e777-4886-8faa-bf701be8d0c4",
   "metadata": {},
   "outputs": [
    {
     "name": "stdout",
     "output_type": "stream",
     "text": [
      "Graph Order: 4\n",
      "Graph Size: 4\n",
      "Degree for Nodes: {'Rome': 1, 'Milan': 3, 'Dublin': 2, 'Paris': 2}\n",
      "Neighbors for nodes: {'Rome': ['Milan'], 'Milan': ['Dublin', 'Paris', 'Rome'], 'Dublin': ['Milan', 'Paris'], 'Paris': ['Milan', 'Dublin']}\n"
     ]
    }
   ],
   "source": [
    "print(f\"Graph Order: {G.number_of_nodes()}\")\n",
    "print(f\"Graph Size: {G.number_of_edges()}\")\n",
    "print(f\"Degree for Nodes: { {v: G.degree(v) for v in G.nodes} }\")\n",
    "print(f\"Neighbors for nodes: { {v: list(G.neighbors(v)) for v in G.nodes} }\")"
   ]
  },
  {
   "cell_type": "code",
   "execution_count": 6,
   "id": "c6d253ed-247a-44a9-987f-640b1e0ad6b9",
   "metadata": {},
   "outputs": [
    {
     "name": "stdout",
     "output_type": "stream",
     "text": [
      "Nodes: ['Rome', 'Milan', 'Dublin', 'Paris']\n",
      "Edges: [('Rome', 'Milan'), ('Milan', 'Dublin'), ('Milan', 'Paris'), ('Dublin', 'Paris')]\n"
     ]
    }
   ],
   "source": [
    "ego_graph_milan = nx.ego_graph(G, \"Milan\")\n",
    "print(f\"Nodes: {ego_graph_milan.nodes}\")\n",
    "print(f\"Edges: {ego_graph_milan.edges}\")"
   ]
  },
  {
   "cell_type": "code",
   "execution_count": 7,
   "id": "72d1d78e-ad16-43cd-a2e7-d0ab45507c84",
   "metadata": {},
   "outputs": [
    {
     "name": "stdout",
     "output_type": "stream",
     "text": [
      "V = ['Rome', 'Milan', 'Dublin', 'Paris', 'Madrid', 'London']\n",
      "E = [('Rome', 'Milan'), ('Rome', 'London'), ('Milan', 'Dublin'), ('Milan', 'Paris'), ('Dublin', 'Paris'), ('Paris', 'Madrid')]\n"
     ]
    }
   ],
   "source": [
    "#Add new nodes and edges\n",
    "new_nodes = {'London', 'Madrid'}\n",
    "new_edges = [('London','Rome'), ('Madrid','Paris')]\n",
    "G.add_nodes_from(new_nodes)\n",
    "G.add_edges_from(new_edges)\n",
    "print(f\"V = {G.nodes}\")\n",
    "print(f\"E = {G.edges}\")"
   ]
  },
  {
   "cell_type": "code",
   "execution_count": 8,
   "id": "4e96a500-e089-4d64-84e5-77e12bf2e421",
   "metadata": {},
   "outputs": [
    {
     "name": "stdout",
     "output_type": "stream",
     "text": [
      "V = ['Rome', 'Milan', 'Dublin', 'Paris']\n",
      "E = [('Rome', 'Milan'), ('Milan', 'Dublin'), ('Milan', 'Paris'), ('Dublin', 'Paris')]\n"
     ]
    }
   ],
   "source": [
    "node_remove = {'London', 'Madrid'}\n",
    "G.remove_nodes_from(node_remove)\n",
    "print(f\"V = {G.nodes}\")\n",
    "print(f\"E = {G.edges}\")"
   ]
  },
  {
   "cell_type": "code",
   "execution_count": 9,
   "id": "7d20a208-8a3a-4c72-9ad0-1bd0fedc7bbc",
   "metadata": {},
   "outputs": [
    {
     "name": "stdout",
     "output_type": "stream",
     "text": [
      "V = ['Rome', 'Milan', 'Dublin', 'Paris']\n",
      "E = [('Rome', 'Milan'), ('Dublin', 'Paris')]\n"
     ]
    }
   ],
   "source": [
    "node_edges = [('Milan','Dublin'), ('Milan','Paris')]\n",
    "G.remove_edges_from(node_edges)\n",
    "print(f\"V = {G.nodes}\")\n",
    "print(f\"E = {G.edges}\")"
   ]
  },
  {
   "cell_type": "markdown",
   "id": "31286e5b-7b40-4104-8229-938d0c3ccb10",
   "metadata": {},
   "source": [
    "## Types of Graphs"
   ]
  },
  {
   "cell_type": "code",
   "execution_count": 10,
   "id": "b6de1f3a-cf0f-41b7-baa0-6119ce515a2d",
   "metadata": {},
   "outputs": [],
   "source": [
    "G = nx.DiGraph()\n",
    "V = {'Dublin', 'Paris', 'Milan', 'Rome'}\n",
    "E = [('Milan','Dublin'), ('Paris','Milan'), ('Paris','Dublin'), ('Milan','Rome')]\n",
    "G.add_nodes_from(V)\n",
    "G.add_edges_from(E)"
   ]
  },
  {
   "cell_type": "code",
   "execution_count": 11,
   "id": "0ae2b1a0-67a3-4211-ac7c-8b75cf8a50d3",
   "metadata": {},
   "outputs": [
    {
     "name": "stdout",
     "output_type": "stream",
     "text": [
      "Indegree for nodes: {'Rome': 1, 'Milan': 1, 'Dublin': 2, 'Paris': 0}\n",
      "Outdegree for nodes: {'Rome': 0, 'Milan': 2, 'Dublin': 0, 'Paris': 2}\n"
     ]
    }
   ],
   "source": [
    "print(f\"Indegree for nodes: { {v: G.in_degree(v) for v in G.nodes} }\")\n",
    "print(f\"Outdegree for nodes: { {v: G.out_degree(v) for v in G.nodes} }\")"
   ]
  },
  {
   "cell_type": "code",
   "execution_count": 12,
   "id": "82d90696-c8a1-4c2d-b9c7-7cd9fb186ae9",
   "metadata": {},
   "outputs": [
    {
     "data": {
      "text/plain": [
       "[0, 1, 0, 0, 0, 1]"
      ]
     },
     "execution_count": 12,
     "metadata": {},
     "output_type": "execute_result"
    }
   ],
   "source": [
    "directed_multi_graph = nx.MultiDiGraph()\n",
    "undirected_multi_graph = nx.MultiGraph()\n",
    "V = {'Dublin', 'Paris', 'Milan', 'Rome'}\n",
    "E = [('Milan','Dublin'), ('Milan','Dublin'), ('Paris','Milan'), ('Paris','Dublin'), ('Milan','Rome'), ('Milan','Rome')]\n",
    "directed_multi_graph.add_nodes_from(V)\n",
    "undirected_multi_graph.add_nodes_from(V)\n",
    "directed_multi_graph.add_edges_from(E)\n",
    "undirected_multi_graph.add_edges_from(E)"
   ]
  },
  {
   "cell_type": "code",
   "execution_count": 13,
   "id": "f51525e5-b866-4d67-b22b-ec3ba85e88ce",
   "metadata": {},
   "outputs": [],
   "source": [
    "G = nx.DiGraph()\n",
    "V = {'Dublin', 'Paris', 'Milan', 'Rome'}\n",
    "E = [('Milan','Dublin', 19), ('Paris','Milan', 8), ('Paris','Dublin', 11), ('Milan','Rome', 5)]\n",
    "G.add_nodes_from(V)\n",
    "G.add_weighted_edges_from(E)"
   ]
  },
  {
   "cell_type": "code",
   "execution_count": null,
   "id": "fa635bcf-adb6-4dbf-ab66-3670a0e9b2ab",
   "metadata": {},
   "outputs": [],
   "source": []
  }
 ],
 "metadata": {
  "kernelspec": {
   "display_name": "graphml",
   "language": "python",
   "name": "graphml"
  },
  "language_info": {
   "codemirror_mode": {
    "name": "ipython",
    "version": 3
   },
   "file_extension": ".py",
   "mimetype": "text/x-python",
   "name": "python",
   "nbconvert_exporter": "python",
   "pygments_lexer": "ipython3",
   "version": "3.9.12"
  }
 },
 "nbformat": 4,
 "nbformat_minor": 5
}
